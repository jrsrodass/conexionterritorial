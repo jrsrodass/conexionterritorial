{
  "nbformat": 4,
  "nbformat_minor": 0,
  "metadata": {
    "colab": {
      "provenance": [],
      "authorship_tag": "ABX9TyNTRXAfO3gewBcpGQoIqsIu",
      "include_colab_link": true
    },
    "kernelspec": {
      "name": "python3",
      "display_name": "Python 3"
    },
    "language_info": {
      "name": "python"
    }
  },
  "cells": [
    {
      "cell_type": "markdown",
      "metadata": {
        "id": "view-in-github",
        "colab_type": "text"
      },
      "source": [
        "<a href=\"https://colab.research.google.com/github/jrsrodass/conexionterritorial/blob/main/clase_1_Electiva.ipynb\" target=\"_parent\"><img src=\"https://colab.research.google.com/assets/colab-badge.svg\" alt=\"Open In Colab\"/></a>"
      ]
    },
    {
      "cell_type": "code",
      "execution_count": 4,
      "metadata": {
        "id": "HKpnWEkg91k6"
      },
      "outputs": [],
      "source": [
        "lista = [9,8,7,6,5,4,3,2,1]"
      ]
    },
    {
      "cell_type": "code",
      "source": [
        "print(lista)"
      ],
      "metadata": {
        "colab": {
          "base_uri": "https://localhost:8080/"
        },
        "id": "uuJmqs1y-ar3",
        "outputId": "7ec9d267-d0c2-4ef4-fa57-c6ae6173bd44"
      },
      "execution_count": 5,
      "outputs": [
        {
          "output_type": "stream",
          "name": "stdout",
          "text": [
            "[9, 8, 7, 6, 5, 4, 3, 2, 1]\n"
          ]
        }
      ]
    },
    {
      "cell_type": "code",
      "source": [
        "#hola mundo"
      ],
      "metadata": {
        "id": "3oQgruc5Bimb"
      },
      "execution_count": 6,
      "outputs": []
    },
    {
      "cell_type": "code",
      "source": [
        "diccionario = {\"123\" : \"lulu\",\n",
        "               \"432\" : \"samuel\",\n",
        "               \"657\" : \"mafemora\",\n",
        "               \"980\" : \"Baneso\"}\n",
        "\n",
        "otro_diccionario = { 1 : [1,2,3,4,5],\n",
        "                    2 : [5,6,7,8,9],\n",
        "                     3 : {1:2,2:3}}"
      ],
      "metadata": {
        "id": "PAXS14fOEpsq"
      },
      "execution_count": 8,
      "outputs": []
    },
    {
      "cell_type": "code",
      "source": [
        "otro_diccionario[3][2]"
      ],
      "metadata": {
        "colab": {
          "base_uri": "https://localhost:8080/"
        },
        "id": "TV9vBz3CGRNO",
        "outputId": "69b97d54-82de-448f-b044-adedff09b766"
      },
      "execution_count": 9,
      "outputs": [
        {
          "output_type": "execute_result",
          "data": {
            "text/plain": [
              "3"
            ]
          },
          "metadata": {},
          "execution_count": 9
        }
      ]
    },
    {
      "cell_type": "code",
      "source": [
        "diccionario_complejo = { 1 : [1,2,3,4,5,[5,6,7,8,9,[6,7,8]]],\n",
        "2: [5,6,7,8,9],\n",
        "3: {1:2,2:3,6:[9,10,'extraer este valor']}}"
      ],
      "metadata": {
        "id": "l_Sv-aKNG8Fc"
      },
      "execution_count": 10,
      "outputs": []
    },
    {
      "cell_type": "code",
      "source": [
        "diccionario_complejo[1][5][5][2]"
      ],
      "metadata": {
        "colab": {
          "base_uri": "https://localhost:8080/"
        },
        "id": "ttWUqWWjIhG2",
        "outputId": "4b770d40-86bd-4cf0-aac9-27742f392ea7"
      },
      "execution_count": 11,
      "outputs": [
        {
          "output_type": "execute_result",
          "data": {
            "text/plain": [
              "8"
            ]
          },
          "metadata": {},
          "execution_count": 11
        }
      ]
    },
    {
      "cell_type": "code",
      "source": [
        "diccionario_complejo[3][6][2]"
      ],
      "metadata": {
        "colab": {
          "base_uri": "https://localhost:8080/",
          "height": 36
        },
        "id": "mLbc-TCBHyk2",
        "outputId": "eb4b84f3-c360-4d3e-b0e6-ba49dd5d2096"
      },
      "execution_count": 12,
      "outputs": [
        {
          "output_type": "execute_result",
          "data": {
            "text/plain": [
              "'extraer este valor'"
            ],
            "application/vnd.google.colaboratory.intrinsic+json": {
              "type": "string"
            }
          },
          "metadata": {},
          "execution_count": 12
        }
      ]
    },
    {
      "cell_type": "code",
      "source": [
        "# 1. Diccionario con nombres y notas\n",
        "estudiantes = {\n",
        "    \"Samuel\": 4.5,\n",
        "    \"Lulu\": 4.9,\n",
        "    \"mafe\": 2.9,\n",
        "    \"Sergio\": 1.9,\n",
        "    \"santi\": 2.0\n",
        "}\n",
        "\n",
        "# 2. Sistema de calificación con condicionales\n",
        "for nombre, nota in estudiantes.items():\n",
        "    print(f\"\\nEstudiante: {nombre}\")\n",
        "    print(f\"Nota: {nota}\")\n",
        "\n",
        "    if nota >= 3.0:\n",
        "        print(\"Ganó la materia.\")\n",
        "    elif 2.0 <= nota < 3.0:\n",
        "        print(\" Perdió la materia y puede habilitar.\")\n",
        "    else:\n",
        "        print(\" Perdió la materia y no puede habilitar.\")"
      ],
      "metadata": {
        "colab": {
          "base_uri": "https://localhost:8080/"
        },
        "id": "oz6lZjaxNS5c",
        "outputId": "af94f66d-ef15-4e05-f1f9-7209a397bb62"
      },
      "execution_count": 3,
      "outputs": [
        {
          "output_type": "stream",
          "name": "stdout",
          "text": [
            "\n",
            "Estudiante: Samuel\n",
            "Nota: 4.5\n",
            "Ganó la materia.\n",
            "\n",
            "Estudiante: Lulu\n",
            "Nota: 4.9\n",
            "Ganó la materia.\n",
            "\n",
            "Estudiante: mafe\n",
            "Nota: 2.9\n",
            " Perdió la materia y puede habilitar.\n",
            "\n",
            "Estudiante: Sergio\n",
            "Nota: 1.9\n",
            " Perdió la materia y no puede habilitar.\n",
            "\n",
            "Estudiante: santi\n",
            "Nota: 2.0\n",
            " Perdió la materia y puede habilitar.\n"
          ]
        }
      ]
    }
  ]
}