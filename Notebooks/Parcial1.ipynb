{
 "cells": [
  {
   "cell_type": "code",
   "execution_count": 11,
   "id": "c3cbe45c",
   "metadata": {},
   "outputs": [],
   "source": [
    "import pandas as pd\n",
    "import numpy as np"
   ]
  },
  {
   "cell_type": "code",
   "execution_count": 12,
   "id": "a8c3bd43",
   "metadata": {},
   "outputs": [
    {
     "data": {
      "text/html": [
       "<div>\n",
       "<style scoped>\n",
       "    .dataframe tbody tr th:only-of-type {\n",
       "        vertical-align: middle;\n",
       "    }\n",
       "\n",
       "    .dataframe tbody tr th {\n",
       "        vertical-align: top;\n",
       "    }\n",
       "\n",
       "    .dataframe thead th {\n",
       "        text-align: right;\n",
       "    }\n",
       "</style>\n",
       "<table border=\"1\" class=\"dataframe\">\n",
       "  <thead>\n",
       "    <tr style=\"text-align: right;\">\n",
       "      <th></th>\n",
       "      <th>DIRECTORIO</th>\n",
       "      <th>SECUENCIA_P</th>\n",
       "      <th>SECUENCIA_ENCUESTA</th>\n",
       "      <th>COD_DEPTO</th>\n",
       "      <th>AREA</th>\n",
       "      <th>CLASE_TE</th>\n",
       "      <th>P35</th>\n",
       "      <th>P241</th>\n",
       "      <th>MES_REF</th>\n",
       "      <th>P3031</th>\n",
       "      <th>P3032_1</th>\n",
       "      <th>P3032_2</th>\n",
       "      <th>P3032_3</th>\n",
       "      <th>P3033</th>\n",
       "      <th>P3034</th>\n",
       "      <th>P3035</th>\n",
       "      <th>P3000</th>\n",
       "      <th>GRUPOS4</th>\n",
       "      <th>GRUPOS12</th>\n",
       "      <th>F_EXP</th>\n",
       "    </tr>\n",
       "  </thead>\n",
       "  <tbody>\n",
       "    <tr>\n",
       "      <th>0</th>\n",
       "      <td>7627444</td>\n",
       "      <td>1</td>\n",
       "      <td>1</td>\n",
       "      <td>44</td>\n",
       "      <td>NaN</td>\n",
       "      <td>2</td>\n",
       "      <td>2</td>\n",
       "      <td>33</td>\n",
       "      <td>ENERO</td>\n",
       "      <td>2</td>\n",
       "      <td>NaN</td>\n",
       "      <td>NaN</td>\n",
       "      <td>NaN</td>\n",
       "      <td>2</td>\n",
       "      <td>240</td>\n",
       "      <td>2</td>\n",
       "      <td>2</td>\n",
       "      <td>2</td>\n",
       "      <td>3</td>\n",
       "      <td>60.050515</td>\n",
       "    </tr>\n",
       "    <tr>\n",
       "      <th>1</th>\n",
       "      <td>7627446</td>\n",
       "      <td>1</td>\n",
       "      <td>1</td>\n",
       "      <td>44</td>\n",
       "      <td>NaN</td>\n",
       "      <td>2</td>\n",
       "      <td>1</td>\n",
       "      <td>31</td>\n",
       "      <td>ENERO</td>\n",
       "      <td>2</td>\n",
       "      <td>NaN</td>\n",
       "      <td>NaN</td>\n",
       "      <td>NaN</td>\n",
       "      <td>2</td>\n",
       "      <td>166</td>\n",
       "      <td>2</td>\n",
       "      <td>2</td>\n",
       "      <td>1</td>\n",
       "      <td>1</td>\n",
       "      <td>86.341075</td>\n",
       "    </tr>\n",
       "    <tr>\n",
       "      <th>2</th>\n",
       "      <td>7627449</td>\n",
       "      <td>1</td>\n",
       "      <td>1</td>\n",
       "      <td>68</td>\n",
       "      <td>NaN</td>\n",
       "      <td>1</td>\n",
       "      <td>2</td>\n",
       "      <td>42</td>\n",
       "      <td>ENERO</td>\n",
       "      <td>2</td>\n",
       "      <td>NaN</td>\n",
       "      <td>NaN</td>\n",
       "      <td>NaN</td>\n",
       "      <td>2</td>\n",
       "      <td>60</td>\n",
       "      <td>2</td>\n",
       "      <td>2</td>\n",
       "      <td>3</td>\n",
       "      <td>5</td>\n",
       "      <td>139.884518</td>\n",
       "    </tr>\n",
       "    <tr>\n",
       "      <th>3</th>\n",
       "      <td>7627453</td>\n",
       "      <td>1</td>\n",
       "      <td>2</td>\n",
       "      <td>68</td>\n",
       "      <td>NaN</td>\n",
       "      <td>1</td>\n",
       "      <td>2</td>\n",
       "      <td>41</td>\n",
       "      <td>ENERO</td>\n",
       "      <td>2</td>\n",
       "      <td>NaN</td>\n",
       "      <td>NaN</td>\n",
       "      <td>NaN</td>\n",
       "      <td>2</td>\n",
       "      <td>60</td>\n",
       "      <td>2</td>\n",
       "      <td>2</td>\n",
       "      <td>4</td>\n",
       "      <td>7</td>\n",
       "      <td>168.635440</td>\n",
       "    </tr>\n",
       "    <tr>\n",
       "      <th>4</th>\n",
       "      <td>7627456</td>\n",
       "      <td>1</td>\n",
       "      <td>3</td>\n",
       "      <td>68</td>\n",
       "      <td>NaN</td>\n",
       "      <td>1</td>\n",
       "      <td>1</td>\n",
       "      <td>18</td>\n",
       "      <td>ENERO</td>\n",
       "      <td>2</td>\n",
       "      <td>NaN</td>\n",
       "      <td>NaN</td>\n",
       "      <td>NaN</td>\n",
       "      <td>2</td>\n",
       "      <td>9</td>\n",
       "      <td>2</td>\n",
       "      <td>2</td>\n",
       "      <td>4</td>\n",
       "      <td>6</td>\n",
       "      <td>64.659273</td>\n",
       "    </tr>\n",
       "  </tbody>\n",
       "</table>\n",
       "</div>"
      ],
      "text/plain": [
       "   DIRECTORIO  SECUENCIA_P  SECUENCIA_ENCUESTA  COD_DEPTO  AREA  CLASE_TE  \\\n",
       "0     7627444            1                   1         44   NaN         2   \n",
       "1     7627446            1                   1         44   NaN         2   \n",
       "2     7627449            1                   1         68   NaN         1   \n",
       "3     7627453            1                   2         68   NaN         1   \n",
       "4     7627456            1                   3         68   NaN         1   \n",
       "\n",
       "   P35  P241 MES_REF  P3031  P3032_1  P3032_2  P3032_3  P3033  P3034  P3035  \\\n",
       "0    2    33   ENERO      2      NaN      NaN      NaN      2    240      2   \n",
       "1    1    31   ENERO      2      NaN      NaN      NaN      2    166      2   \n",
       "2    2    42   ENERO      2      NaN      NaN      NaN      2     60      2   \n",
       "3    2    41   ENERO      2      NaN      NaN      NaN      2     60      2   \n",
       "4    1    18   ENERO      2      NaN      NaN      NaN      2      9      2   \n",
       "\n",
       "   P3000  GRUPOS4  GRUPOS12       F_EXP  \n",
       "0      2        2         3   60.050515  \n",
       "1      2        1         1   86.341075  \n",
       "2      2        3         5  139.884518  \n",
       "3      2        4         7  168.635440  \n",
       "4      2        4         6   64.659273  "
      ]
     },
     "execution_count": 12,
     "metadata": {},
     "output_type": "execute_result"
    }
   ],
   "source": [
    "#leer base de datos\n",
    "df_emicron = pd.read_csv('https://github.com/niconomist98/DataAnalyticsUQ/raw/refs/heads/main/Datos/EMICRON/emicron_identificacion.csv', encoding=\"latin\", sep=',')\n",
    "df_emicron.head()"
   ]
  },
  {
   "cell_type": "code",
   "execution_count": 13,
   "id": "0c07437f",
   "metadata": {},
   "outputs": [
    {
     "name": "stdout",
     "output_type": "stream",
     "text": [
      "micronegocios en Colombia: 5297251\n"
     ]
    }
   ],
   "source": [
    "#1.¿Cuantos micronegocios hay en el Quindio, cuyos propietarios son hombres entre los 18 y 30 años?\n",
    "#primero calculamos la cantidad de micronegocios en colombia \n",
    "total = df_emicron[\"F_EXP\"].sum()\n",
    "print(\"micronegocios en Colombia:\", int(total))"
   ]
  },
  {
   "cell_type": "code",
   "execution_count": 14,
   "id": "77d14742",
   "metadata": {},
   "outputs": [
    {
     "name": "stdout",
     "output_type": "stream",
     "text": [
      "de acuerdo a la base de datos obtenemos que la cantidad de Micronegocios en el Quindío cuyos propietarios son hombres entre 18 y 30 años es: 1929\n"
     ]
    }
   ],
   "source": [
    "#filtrar\n",
    "#COD_DEPTO = 63 (Quindio)\n",
    "#P35 = 1 (Hombre)\n",
    "#P241 = entre 18 y 30 años\n",
    "M_HQ = df_emicron[(df_emicron[\"COD_DEPTO\"] == 63) & (df_emicron[\"P35\"] == 1) & (df_emicron[\"P241\"].between(18, 30))]\n",
    "#por ultimo calcular el total de micronegocios en el quindio de hombres entre 18 y 30 años\n",
    "total_HQ = M_HQ[\"F_EXP\"].sum()\n",
    "\n",
    "print(\"de acuerdo a la base de datos obtenemos que la cantidad de Micronegocios en el Quindío cuyos propietarios son hombres entre 18 y 30 años es:\", round(total_HQ))"
   ]
  },
  {
   "cell_type": "code",
   "execution_count": 15,
   "id": "49b88c83",
   "metadata": {},
   "outputs": [
    {
     "name": "stdout",
     "output_type": "stream",
     "text": [
      "El numero total de micronegocios en la industria manufacturera de el departamento de Risaralda cuyas mujeres entre los 20 y los 30 años son propietarias es: 471\n"
     ]
    }
   ],
   "source": [
    "#2.¿Cuantos micronegocios de la industria manufacturera existen en el departamento de Risaralda cuyas propietarias son mujeres entre los 20 y los 30 años?\n",
    "#Cambiamos las variables por las que nos pide la pregunta y filtramos\n",
    "#COD_DEPTO = 66 (Risaralda)\n",
    "#P35 = 2 (Mujer)\n",
    "#P241 = entre 20 y 30 años\n",
    "#GRUPOS4 = 2 (Industria manufacturera)\n",
    "Manufacturera_RM = df_emicron[(df_emicron[\"COD_DEPTO\"] == 66) & (df_emicron[\"P35\"] == 2) & (df_emicron[\"P241\"].between(20, 30)) & (df_emicron[\"GRUPOS4\"] == 2)]\n",
    "\n",
    "total_Manufacturera_RM = Manufacturera_RM[\"F_EXP\"].sum()\n",
    "print(f\"El numero total de micronegocios en la industria manufacturera de el departamento de Risaralda cuyas mujeres entre los 20 y los 30 años son propietarias es: {Manufacturera_RM['F_EXP'].sum():.0f}\")"
   ]
  },
  {
   "cell_type": "code",
   "execution_count": 16,
   "id": "198a9b0a",
   "metadata": {},
   "outputs": [
    {
     "name": "stdout",
     "output_type": "stream",
     "text": [
      "el total de mujeres mayores a 40 años propietarias de negocios del sector comercio en Armenia es: 2558\n",
      "el total de mujeres mayores a 40 años propietarias de negocios del sector comercio en Pereira es: 3827\n",
      "el total de mujeres mayores a 40 años propietarias de negocios del sector comercio en Manizales es: 2637\n"
     ]
    }
   ],
   "source": [
    "#3. Entre las ciudades de Manizales, Pereira y Armenia, cual de las 3 ciudades tiene mas micronegocios del sector comercio cuyas propietarias son mujeres mayores a 40 años?\n",
    "#agregamos area para filtrar las ciudades\n",
    "#AREA = 17 (Manizales)\n",
    "#AREA = 63 (Armenia)\n",
    "#AREA = 66 (Pereira)\n",
    "#cambiamos el grupo economico a comercio\n",
    "#GRUPOS4 = 3 (Comercio)\n",
    "\n",
    "#Armenia\n",
    "comercio_A40 = df_emicron[(df_emicron[\"AREA\"] == 63) & (df_emicron[\"P35\"] == 2) & (df_emicron[\"P241\"] > 40) & (df_emicron[\"GRUPOS4\"] == 3)]\n",
    "total_comercio_A40 = comercio_A40[\"F_EXP\"].sum()\n",
    "\n",
    "print(f\"el total de mujeres mayores a 40 años propietarias de negocios del sector comercio en Armenia es: {comercio_A40['F_EXP'].sum():.0f}\")\n",
    "\n",
    "#Pereira\n",
    "comercio_P40 = df_emicron[(df_emicron[\"AREA\"] == 66) & (df_emicron[\"P35\"] == 2) & (df_emicron[\"P241\"] > 40) & (df_emicron[\"GRUPOS4\"] == 3)]\n",
    "total_comercio_P40 = comercio_P40[\"F_EXP\"].sum()\n",
    "\n",
    "print(f\"el total de mujeres mayores a 40 años propietarias de negocios del sector comercio en Pereira es: {comercio_P40['F_EXP'].sum():.0f}\")\n",
    "\n",
    "#Manizales\n",
    "comercio_M40 = df_emicron[(df_emicron[\"AREA\"] == 17) & (df_emicron[\"P35\"] == 2) & (df_emicron[\"P241\"] > 40) & (df_emicron[\"GRUPOS4\"] == 3)]\n",
    "total_comercio_M40 = comercio_M40[\"F_EXP\"].sum()\n",
    "print(f\"el total de mujeres mayores a 40 años propietarias de negocios del sector comercio en Manizales es: {comercio_M40['F_EXP'].sum():.0f}\")\n"
   ]
  },
  {
   "cell_type": "code",
   "execution_count": 17,
   "id": "e3b9c932",
   "metadata": {},
   "outputs": [
    {
     "name": "stdout",
     "output_type": "stream",
     "text": [
      "En Armenia el total de micronegocios cuyos propietarios son hombres que no tienen un nombre comercial es: 11603\n"
     ]
    }
   ],
   "source": [
    "#4.¿En Armenia cuantos micronegocios hay cuyos propietarios son hombres que no tienen nombre comercial?\n",
    "#AREA = 63 (Armenia)\n",
    "#P35 = 1 (Hombre)\n",
    "#P3035 = 2 (No tiene nombre comercial)\n",
    "M_AH = df_emicron[(df_emicron[\"AREA\"] == 63) & (df_emicron[\"P35\"] == 1) & (df_emicron[\"P3035\"] == 2)]\n",
    "total_M_AH = M_AH [\"F_EXP\"].sum()\n",
    "print(f\"En Armenia el total de micronegocios cuyos propietarios son hombres que no tienen un nombre comercial es: {M_AH['F_EXP'].sum():.0f}\")"
   ]
  }
 ],
 "metadata": {
  "kernelspec": {
   "display_name": "Python 3",
   "language": "python",
   "name": "python3"
  },
  "language_info": {
   "codemirror_mode": {
    "name": "ipython",
    "version": 3
   },
   "file_extension": ".py",
   "mimetype": "text/x-python",
   "name": "python",
   "nbconvert_exporter": "python",
   "pygments_lexer": "ipython3",
   "version": "3.12.1"
  }
 },
 "nbformat": 4,
 "nbformat_minor": 5
}
