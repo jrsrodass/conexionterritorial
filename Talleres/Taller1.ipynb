{
 "cells": [
  {
   "cell_type": "markdown",
   "id": "0e412e23",
   "metadata": {},
   "source": [
    "Taller 1: Britney Yuliana Madroñero Lanz y Julián Andrey Rodas Suárez"
   ]
  },
  {
   "cell_type": "code",
   "execution_count": 47,
   "id": "ec120253",
   "metadata": {},
   "outputs": [],
   "source": [
    "#librerias\n",
    "import pandas as pd\n",
    "import numpy as np"
   ]
  },
  {
   "cell_type": "code",
   "execution_count": 48,
   "id": "8ce7f7bc",
   "metadata": {},
   "outputs": [
    {
     "name": "stderr",
     "output_type": "stream",
     "text": [
      "/tmp/ipykernel_1753/2176691736.py:8: DtypeWarning: Columns (28,89,133,147,158) have mixed types. Specify dtype option on import or set low_memory=False.\n",
      "  df_ocupados= pd.read_csv( \"https://github.com/niconomist98/DataAnalyticsUQ/raw/refs/heads/main/Datos/GEIH2025/Ocupados.CSV\"\n",
      "/tmp/ipykernel_1753/2176691736.py:11: DtypeWarning: Columns (33) have mixed types. Specify dtype option on import or set low_memory=False.\n",
      "  df_ft= pd.read_csv( \"https://github.com/niconomist98/DataAnalyticsUQ/raw/refs/heads/main/Datos/GEIH2025/Fuerza%20de%20trabajo.CSV\"\n"
     ]
    }
   ],
   "source": [
    "#datos de la GEIH \n",
    "df_cgsse= pd.read_csv( \"https://raw.githubusercontent.com/niconomist98/DataAnalyticsUQ/refs/heads/main/Datos/GEIH2025/cgsse.CSV\"\n",
    "                      ,encoding=\"latin\",sep=\";\")\n",
    "\n",
    "df_desocupados= pd.read_csv( \"https://raw.githubusercontent.com/niconomist98/DataAnalyticsUQ/refs/heads/main/Datos/GEIH2025/No%20ocupados.CSV\"\n",
    "                      ,encoding=\"latin\",sep=\";\")    \n",
    "\n",
    "df_ocupados= pd.read_csv( \"https://github.com/niconomist98/DataAnalyticsUQ/raw/refs/heads/main/Datos/GEIH2025/Ocupados.CSV\"\n",
    "                      ,encoding=\"latin\",sep=\";\")\n",
    "\n",
    "df_ft= pd.read_csv( \"https://github.com/niconomist98/DataAnalyticsUQ/raw/refs/heads/main/Datos/GEIH2025/Fuerza%20de%20trabajo.CSV\"\n",
    "                      ,encoding=\"latin\",sep=\";\")  "
   ]
  },
  {
   "cell_type": "markdown",
   "id": "2b622c1f",
   "metadata": {},
   "source": [
    "1. Para el total nacional calcule :"
   ]
  },
  {
   "cell_type": "markdown",
   "id": "371e8258",
   "metadata": {},
   "source": [
    "-población total"
   ]
  },
  {
   "cell_type": "code",
   "execution_count": 49,
   "id": "c3ab2acc",
   "metadata": {},
   "outputs": [
    {
     "name": "stdout",
     "output_type": "stream",
     "text": [
      "Población total: 52045001\n"
     ]
    }
   ],
   "source": [
    "ptc = df_cgsse[\"FEX_C18\"].sum()\n",
    "print('Población total:', int(ptc))"
   ]
  },
  {
   "cell_type": "markdown",
   "id": "c6d821b3",
   "metadata": {},
   "source": [
    "-población en edad de trabajar"
   ]
  },
  {
   "cell_type": "code",
   "execution_count": 50,
   "id": "254b79f2",
   "metadata": {},
   "outputs": [
    {
     "name": "stdout",
     "output_type": "stream",
     "text": [
      "Poblacion total en edad de trabjar: 40653416\n"
     ]
    }
   ],
   "source": [
    "et = df_cgsse[df_cgsse['P6040']>=15]['FEX_C18'].sum()\n",
    "print('Poblacion total en edad de trabjar:',int(et))"
   ]
  },
  {
   "cell_type": "markdown",
   "id": "9aea1001",
   "metadata": {},
   "source": [
    "-población que no está en edad de trabajar"
   ]
  },
  {
   "cell_type": "code",
   "execution_count": 51,
   "id": "9c8fa152",
   "metadata": {},
   "outputs": [
    {
     "name": "stdout",
     "output_type": "stream",
     "text": [
      "Poblacion total sin edad de trabajar: 11391585\n"
     ]
    }
   ],
   "source": [
    "set = df_cgsse[df_cgsse['P6040']<15]['FEX_C18'].sum()\n",
    "print('Poblacion total sin edad de trabajar:',int(set))"
   ]
  },
  {
   "cell_type": "markdown",
   "id": "1b0c499c",
   "metadata": {},
   "source": [
    "-población económicamente activa"
   ]
  },
  {
   "cell_type": "code",
   "execution_count": 52,
   "id": "f2f6caf5",
   "metadata": {},
   "outputs": [
    {
     "name": "stdout",
     "output_type": "stream",
     "text": [
      "Poblacion economicamente activa: 25974846\n"
     ]
    }
   ],
   "source": [
    "pea = df_ocupados[\"FEX_C18\"].sum() + df_desocupados[df_desocupados['DSI']==1][\"FEX_C18\"].sum()\n",
    "print(f'Poblacion economicamente activa:', int(pea))"
   ]
  },
  {
   "cell_type": "markdown",
   "id": "d202f0d7",
   "metadata": {},
   "source": [
    "-población económicamente inactiva"
   ]
  },
  {
   "cell_type": "code",
   "execution_count": 53,
   "id": "b90c815a",
   "metadata": {},
   "outputs": [
    {
     "name": "stdout",
     "output_type": "stream",
     "text": [
      "Poblacion economicamente inactiva: 14678569\n"
     ]
    }
   ],
   "source": [
    "pei = df_ft[df_ft['FFT']==1]['FEX_C18'].sum()\n",
    "print(f'Poblacion economicamente inactiva:', int(pei))\n"
   ]
  },
  {
   "cell_type": "markdown",
   "id": "a0fee2c6",
   "metadata": {},
   "source": [
    "-tasa de ocupación"
   ]
  },
  {
   "cell_type": "code",
   "execution_count": 54,
   "id": "a1980bc1",
   "metadata": {},
   "outputs": [
    {
     "name": "stdout",
     "output_type": "stream",
     "text": [
      "La tasa de ocupacion: 58.43%\n"
     ]
    }
   ],
   "source": [
    "TO = (df_ocupados['FEX_C18'].sum() / et)\n",
    "\n",
    "print(f'La tasa de ocupacion: {TO:.2%}')"
   ]
  },
  {
   "cell_type": "markdown",
   "id": "85d9b17c",
   "metadata": {},
   "source": [
    "-tasa de desempleo\n"
   ]
  },
  {
   "cell_type": "code",
   "execution_count": 55,
   "id": "0c22513a",
   "metadata": {},
   "outputs": [
    {
     "name": "stdout",
     "output_type": "stream",
     "text": [
      "La tasa de desempleo: 8.55%\n"
     ]
    }
   ],
   "source": [
    "TD = (df_desocupados[df_desocupados['DSI']==1]['FEX_C18'].sum() / pea)\n",
    "print(f'La tasa de desempleo: {TD:.2%}')"
   ]
  },
  {
   "cell_type": "markdown",
   "id": "9b83aefe",
   "metadata": {},
   "source": [
    "2. Calcule las tasas de desempleo para hombres y mujeres en todos los departamentos de colombia, cuales son los departamentos con mayores y menores tasas de desempleo ? "
   ]
  },
  {
   "cell_type": "code",
   "execution_count": 56,
   "id": "130df986",
   "metadata": {},
   "outputs": [
    {
     "name": "stdout",
     "output_type": "stream",
     "text": [
      "    DPTO     Sexo         TD\n",
      "0      5  Hombres   4.886691\n",
      "1      5  Mujeres   9.770415\n",
      "2      8  Hombres   6.301949\n",
      "3      8  Mujeres  10.232567\n",
      "4     11  Hombres   9.821256\n",
      "5     11  Mujeres   7.078481\n",
      "6     13  Hombres   4.791098\n",
      "7     13  Mujeres  12.028807\n",
      "8     15  Hombres   6.967972\n",
      "9     15  Mujeres   4.008697\n",
      "10    17  Hombres   5.583183\n",
      "11    17  Mujeres   7.677962\n",
      "12    18  Hombres   2.676220\n",
      "13    18  Mujeres  15.726909\n",
      "14    19  Hombres   3.390661\n",
      "15    19  Mujeres   5.146277\n",
      "16    20  Hombres   5.991357\n",
      "17    20  Mujeres  13.209651\n",
      "18    23  Hombres   5.832048\n",
      "19    23  Mujeres  19.837285\n"
     ]
    }
   ],
   "source": [
    "df_desocupados_gen = pd.merge(df_desocupados[df_desocupados[\"DSI\"]==1], df_cgsse[['DIRECTORIO','SECUENCIA_P','ORDEN','P3271']], on=['DIRECTORIO','SECUENCIA_P','ORDEN'], how='left')\n",
    "\n",
    "desocupados_sexo = (df_desocupados_gen.groupby(['DPTO','P3271'])['FEX_C18'].sum().reset_index().rename(columns={'FEX_C18':'desocupados'}))\n",
    "\n",
    "df_ocupados_gen = pd.merge(df_ocupados, df_cgsse[['DIRECTORIO','SECUENCIA_P','ORDEN','P3271']], on=['DIRECTORIO','SECUENCIA_P','ORDEN'], how='left')\n",
    "\n",
    "ocupados_sexo = (df_ocupados_gen.groupby(['DPTO','P3271'])['FEX_C18'].sum().reset_index().rename(columns={'FEX_C18':'ocupados'}))\n",
    "\n",
    "#ocupados y desocupados para calcular la PEA\n",
    "pea_sexo = pd.merge(ocupados_sexo, desocupados_sexo, on=['DPTO','P3271'], how='outer').fillna(0)\n",
    "pea_sexo['PEA'] = pea_sexo['ocupados'] + pea_sexo['desocupados']\n",
    "\n",
    "#tasa de desempleo (TD)\n",
    "pea_sexo['TD'] = pea_sexo['desocupados'] / pea_sexo['PEA'] * 100\n",
    "\n",
    "pea_sexo['Sexo'] = pea_sexo['P3271'].map({1:'Hombres', 2:'Mujeres'})\n",
    "\n",
    "print(pea_sexo[['DPTO','Sexo','TD']].head(20))"
   ]
  },
  {
   "cell_type": "code",
   "execution_count": 57,
   "id": "b9dbef97",
   "metadata": {},
   "outputs": [
    {
     "name": "stdout",
     "output_type": "stream",
     "text": [
      "Departamentos con MAYOR tasa de desempleo para hombres y mujeres:\n",
      "    DPTO     Sexo         TD\n",
      "48    81  Hombres  18.057931\n",
      "49    81  Mujeres  31.660892\n",
      "\n",
      "Departamentos con MENOR tasa de desempleo para hombres y mujeres:\n",
      "    DPTO     Sexo        TD\n",
      "56    91  Hombres  1.979606\n",
      "57    91  Mujeres  1.874288\n"
     ]
    }
   ],
   "source": [
    "# Departamentos con mayor y menor tasa de desempleo en hombres y mujeres\n",
    "td_max = pea_sexo.loc[pea_sexo.groupby(\"Sexo\")[\"TD\"].idxmax()]\n",
    "td_min = pea_sexo.loc[pea_sexo.groupby(\"Sexo\")[\"TD\"].idxmin()]\n",
    "\n",
    "print(\"Departamentos con MAYOR tasa de desempleo para hombres y mujeres:\")\n",
    "print(td_max[['DPTO','Sexo','TD']])\n",
    "\n",
    "print(\"\\nDepartamentos con MENOR tasa de desempleo para hombres y mujeres:\")\n",
    "print(td_min[['DPTO','Sexo','TD']])"
   ]
  },
  {
   "cell_type": "markdown",
   "id": "f6ecb1d9",
   "metadata": {},
   "source": [
    "De acuerdo a los resultados podemos observar como Arauca(81), se posiciona como el departamento con mayor tasa de desempleo para hombres y mujeres en Colombia, por el contrario se evidencia que el Amazonas(91) es el departamento con la menor tasa."
   ]
  },
  {
   "cell_type": "markdown",
   "id": "3a9a0138",
   "metadata": {},
   "source": [
    "3.Tomando en consideración únicamente los siguientes grupos de edad: (18 a 24), (24 a 30), (30 a 40), (40 a 50), (60 en adelante)."
   ]
  },
  {
   "cell_type": "markdown",
   "id": "ea13cacb",
   "metadata": {},
   "source": [
    "Para cada uno de los departamentos, cual es el grupo de edad con mayor y menor tasa de desempleo ? "
   ]
  },
  {
   "cell_type": "code",
   "execution_count": 58,
   "id": "26a06c96",
   "metadata": {},
   "outputs": [],
   "source": [
    "def clasificar_edad(x):\n",
    "    if 18 <= x < 24:\n",
    "        return \"18-24\"\n",
    "    elif 24 <= x < 30:\n",
    "        return \"24-30\"\n",
    "    elif 30 <= x < 40:\n",
    "        return \"30-40\"\n",
    "    elif 40 <= x < 50:\n",
    "        return \"40-50\"\n",
    "    elif x >= 60:\n",
    "        return \"60+\"\n",
    "    else:\n",
    "        return \"Otros\""
   ]
  },
  {
   "cell_type": "code",
   "execution_count": 59,
   "id": "a4ca336b",
   "metadata": {},
   "outputs": [],
   "source": [
    "df_cgsse[\"grupo_edad\"] = df_cgsse[\"P6040\"].apply(clasificar_edad)\n",
    "\n",
    "#desocupados y ocupados por grupo de edad\n",
    "\n",
    "df_desocupados_gen = pd.merge(df_desocupados[df_desocupados[\"DSI\"]==1], df_cgsse[[\"DIRECTORIO\",\"SECUENCIA_P\",\"ORDEN\",\"grupo_edad\"]], on=[\"DIRECTORIO\",\"SECUENCIA_P\",\"ORDEN\"], how=\"left\")\n",
    "\n",
    "desocupados_edad = (df_desocupados_gen.groupby([\"DPTO\",\"grupo_edad\"])[\"FEX_C18\"].sum().reset_index().rename(columns={\"FEX_C18\":\"desocupados\"}))\n",
    "\n",
    "df_ocupados_gen = pd.merge(df_ocupados, df_cgsse[[\"DIRECTORIO\",\"SECUENCIA_P\",\"ORDEN\",\"grupo_edad\"]], on=[\"DIRECTORIO\",\"SECUENCIA_P\",\"ORDEN\"], how=\"left\")\n",
    "\n",
    "ocupados_edad = (df_ocupados_gen.groupby([\"DPTO\",\"grupo_edad\"])[\"FEX_C18\"].sum().reset_index().rename(columns={\"FEX_C18\":\"ocupados\"}))\n",
    "\n",
    "#poblacion economicamente activa y tasa de desempleo por grupos de edad\n",
    "\n",
    "pea_edad = pd.merge(ocupados_edad, desocupados_edad, on=[\"DPTO\",\"grupo_edad\"], how=\"outer\").fillna(0)\n",
    "pea_edad[\"PEA\"] = pea_edad[\"ocupados\"] + pea_edad[\"desocupados\"]\n",
    "pea_edad[\"TD\"] = pea_edad[\"desocupados\"] / pea_edad[\"PEA\"] * 100"
   ]
  },
  {
   "cell_type": "code",
   "execution_count": 60,
   "id": "2834a88c",
   "metadata": {},
   "outputs": [
    {
     "name": "stdout",
     "output_type": "stream",
     "text": [
      "Grupo de edad con mayor tasa de desempleo por departamento:\n",
      "     DPTO grupo_edad         TD\n",
      "0       5      18-24  17.685962\n",
      "6       8      18-24  22.406918\n",
      "12     11      18-24  17.797990\n",
      "18     13      18-24  29.157386\n",
      "25     15      24-30  14.491221\n",
      "30     17      18-24   9.972584\n",
      "36     18      18-24  21.686963\n",
      "43     19      24-30   7.775308\n",
      "48     20      18-24  19.042303\n",
      "54     23      18-24  31.660884\n",
      "60     25      18-24  15.618810\n",
      "66     27      18-24  21.102675\n",
      "72     41      18-24  14.602874\n",
      "79     44      24-30  24.685637\n",
      "84     47      18-24  20.675536\n",
      "90     50      18-24  13.483416\n",
      "96     52      18-24  16.529172\n",
      "102    54      18-24  28.074930\n",
      "109    63      24-30  14.237924\n",
      "114    66      18-24  15.173556\n",
      "120    68      18-24  23.222696\n",
      "127    70      24-30  22.884184\n",
      "132    73      18-24  19.348020\n",
      "138    76      18-24  17.821703\n",
      "144    81      18-24  61.095429\n",
      "150    85      18-24  27.966955\n",
      "156    86      18-24  44.878068\n",
      "163    88      24-30  23.449477\n",
      "171    91      40-50   4.647341\n",
      "175    94      24-30  12.782858\n",
      "180    95      18-24  17.005129\n",
      "188    97      30-40   7.678632\n",
      "192    99      18-24  23.026006\n",
      "Grupo de edad con menor tasa de desempleo por departamento:\n",
      "     DPTO grupo_edad         TD\n",
      "4       5        60+   1.199292\n",
      "9       8      40-50   4.082692\n",
      "16     11        60+   5.426223\n",
      "22     13        60+   2.222537\n",
      "28     15        60+   0.440514\n",
      "34     17        60+   4.060989\n",
      "40     18        60+   1.244864\n",
      "46     19        60+   0.539495\n",
      "52     20        60+   0.644501\n",
      "58     23        60+   4.322568\n",
      "64     25        60+   4.202708\n",
      "70     27        60+   6.162454\n",
      "76     41        60+   0.950585\n",
      "82     44        60+   0.466427\n",
      "88     47        60+   3.495022\n",
      "94     50        60+   3.972646\n",
      "100    52        60+   2.122516\n",
      "106    54        60+   4.730661\n",
      "111    63      40-50   6.506359\n",
      "118    66        60+   3.639861\n",
      "124    68        60+   4.564159\n",
      "130    70        60+   2.869353\n",
      "136    73        60+   9.458632\n",
      "142    76        60+   5.954849\n",
      "147    81      40-50  12.725505\n",
      "154    85        60+   0.000000\n",
      "158    86      30-40  10.837416\n",
      "165    88      40-50   6.261247\n",
      "168    91      18-24   0.000000\n",
      "178    94        60+   0.000000\n",
      "182    95      30-40   6.376562\n",
      "186    97      18-24   0.000000\n",
      "196    99        60+   0.000000\n"
     ]
    }
   ],
   "source": [
    "# Filtrar \n",
    "pea_edad = pea_edad[pea_edad[\"grupo_edad\"].isin([\"18-24\",\"24-30\",\"30-40\",\"40-50\",\"60+\"])] \n",
    "\n",
    "mayores = pea_edad.loc[pea_edad.groupby(\"DPTO\")[\"TD\"].idxmax()]\n",
    "menores = pea_edad.loc[pea_edad.groupby(\"DPTO\")[\"TD\"].idxmin()]\n",
    "\n",
    "print(\"Grupo de edad con mayor tasa de desempleo por departamento:\")\n",
    "print(mayores[[\"DPTO\",\"grupo_edad\",\"TD\"]])\n",
    "\n",
    "print(\"Grupo de edad con menor tasa de desempleo por departamento:\")\n",
    "print(menores[[\"DPTO\",\"grupo_edad\",\"TD\"]])"
   ]
  },
  {
   "cell_type": "markdown",
   "id": "d236feed",
   "metadata": {},
   "source": [
    "El desempleo se concentra principalmente en los jóvenes de 18 a 24 años, lo que refleja sus dificultades de inserción laboral. En algunos departamentos, como Norte de Santander, Valle del Cauca y Bolívar, los más afectados son los adultos jóvenes de 24 a 30 años. En contraste, la población de 60 años o más presenta las tasas más bajas, evidenciando una marcada brecha generacional."
   ]
  },
  {
   "cell_type": "markdown",
   "id": "2da30a9c",
   "metadata": {},
   "source": [
    "4.¿Cuáles son los 3 departamentos con menor tasa de desempleo de mujeres entre los 18 y los 25 años ? "
   ]
  },
  {
   "cell_type": "code",
   "execution_count": 69,
   "id": "3913c242",
   "metadata": {},
   "outputs": [
    {
     "name": "stdout",
     "output_type": "stream",
     "text": [
      "departamentos con menor tasa de desempleo (Mujeres 18-24):\n",
      "               PEA  Desempleadas  Tasa_desempleo(%) Departamento\n",
      "DPTO                                                            \n",
      "63    10289.693612    654.189193           6.357713      QUINDIO\n",
      "19    37817.442681   2965.201120           7.840829        CAUCA\n",
      "41    19123.128493   1918.472193          10.032209        HUILA\n"
     ]
    }
   ],
   "source": [
    "df_desocupados_gen = pd.merge(df_desocupados, df_cgsse[[\"DIRECTORIO\", \"SECUENCIA_P\", \"ORDEN\", \"P3271\", \"P6040\"]], on=[\"DIRECTORIO\", \"SECUENCIA_P\", \"ORDEN\"], how=\"left\")\n",
    "\n",
    "#desempleo en mujeres (18-24 años) por departamento\n",
    "desem = (df_desocupados_gen[(df_desocupados_gen[\"DSI\"] == 1) & (df_desocupados_gen[\"P3271\"] == 2) & (df_desocupados_gen[\"P6040\"].between(18, 24))].groupby(\"DPTO\")[\"FEX_C18\"].sum())\n",
    "\n",
    "#poblacion economicamente activa (18-24 años, mujeres)\n",
    "persona_activa = (df_ft_gen[(df_ft_gen[\"FT\"] == 1) & (df_ft_gen[\"P3271\"] == 2) & (df_ft_gen[\"P6040\"].between(18, 24))].groupby(\"DPTO\")[\"FEX_C18\"].sum())\n",
    "\n",
    "resultado = pd.DataFrame({\"PEA\": persona_activa, \"Desempleadas\": desem})\n",
    "resultado[\"Tasa_desempleo(%)\"] = (resultado[\"Desempleadas\"] / resultado[\"PEA\"]) * 100\n",
    "\n",
    "dpto_nombre = {91: 'AMAZONAS', 81: 'ARAUCA', 5: 'ANTIOQUIA', 8: 'ATLANTICO', 11: 'BOGOTA', 13: 'BOLIVAR', 15: 'BOYACA', 17: 'CALDAS', 18: 'CAQUETA', 19: 'CAUCA', 20: 'CESAR', 23: 'CORDOBA', 25: 'CUNDINAMARCA', 27: 'CHOCO', 41: 'HUILA', 44: 'GUAJIRA', 47: 'MAGDALENA', 50: 'META', 52: 'NARIÑO', 54: 'NORTE DE SANTANDER', 63: 'QUINDIO', 66: 'RISARALDA', 68: 'SANTANDER', 70: 'SUCRE', 73: 'TOLIMA', 76: 'VALLE DEL CAUCA', 86: 'PUTUMAYO', 88: 'SAN ANDRES', 90: 'CASANARE', 94: 'GUAINIA', 95: 'GUAVIARE', 97: 'VAUPES', 99: 'VICHADA'}\n",
    "\n",
    "resultado[\"Departamento\"] = resultado.index.map(dpto_nombre)\n",
    "\n",
    "# Ordenar por tasa de desempleo descendente\n",
    "resultado = resultado.sort_values(by=\"Tasa_desempleo(%)\", ascending=True)\n",
    "\n",
    "print(\"departamentos con menor tasa de desempleo (Mujeres 18-24):\")\n",
    "print(resultado.head(3))"
   ]
  },
  {
   "cell_type": "markdown",
   "id": "8502412d",
   "metadata": {},
   "source": [
    "Los departamentos de Quindío, Cauca y Huila concentran las menores tasas de desempleo entre mujeres jóvenes de 18 a 24 años, lo que refleja condiciones relativamente más favorables para su participación en el mercado laboral en comparación con otras regiones del país. Este resultado sugiere que, aunque persisten retos en la inserción laboral juvenil, en estos territorios existen dinámicas que permiten una mayor vinculación de las mujeres a la actividad económica, siendo el Quindío el que sobresale con el nivel de desempleo más bajo dentro del grupo analizado."
   ]
  },
  {
   "cell_type": "markdown",
   "id": "2f52f9c6",
   "metadata": {},
   "source": [
    "5.Calcule el promedio de ingresos laborales  de las personas residentes en los departamentos de Risaralda, Caldas , Quindío, Antioquia y Valle del Cauca."
   ]
  },
  {
   "cell_type": "code",
   "execution_count": 70,
   "id": "051b62ae",
   "metadata": {},
   "outputs": [
    {
     "name": "stdout",
     "output_type": "stream",
     "text": [
      "      Departamento  Ingreso_promedio\n",
      "0        Antioquia      2.090819e+06\n",
      "1           Caldas      1.958683e+06\n",
      "2          Quindío      1.637336e+06\n",
      "3        Risaralda      1.621205e+06\n",
      "4  Valle del Cauca      1.698392e+06\n"
     ]
    },
    {
     "name": "stderr",
     "output_type": "stream",
     "text": [
      "/tmp/ipykernel_1753/1727051392.py:7: FutureWarning: DataFrameGroupBy.apply operated on the grouping columns. This behavior is deprecated, and in a future version of pandas the grouping columns will be excluded from the operation. Either pass `include_groups=False` to exclude the groupings or explicitly select the grouping columns after groupby to silence this warning.\n",
      "  promedios_ingresos = (df_ingresos.groupby(\"DPTO\").apply(lambda x: (x[\"INGLABO\"] * x[\"FEX_C18\"]).sum() / x[\"FEX_C18\"].sum()).reset_index(name=\"Ingreso_promedio\"))\n"
     ]
    }
   ],
   "source": [
    "#Filtrar\n",
    "deptos_interes = [66, 17, 63, 5, 76]  # 66=Risaralda, 17=Caldas, 63=Quindío, 5=Antioquia, 76=Valle del Cauca\n",
    "\n",
    "df_ingresos = df_ocupados[df_ocupados[\"DPTO\"].isin(deptos_interes)]\n",
    "\n",
    "# Calcular el promedio ponderado de ingresos laborales (INGLABO)\n",
    "promedios_ingresos = (df_ingresos.groupby(\"DPTO\").apply(lambda x: (x[\"INGLABO\"] * x[\"FEX_C18\"]).sum() / x[\"FEX_C18\"].sum()).reset_index(name=\"Ingreso_promedio\"))\n",
    "\n",
    "mapa_dptos = {66:\"Risaralda\", 17:\"Caldas\", 63:\"Quindío\", 5:\"Antioquia\", 76:\"Valle del Cauca\"}\n",
    "promedios_ingresos[\"Departamento\"] = promedios_ingresos[\"DPTO\"].map(mapa_dptos)\n",
    "\n",
    "promedios_ingresos = promedios_ingresos[[\"Departamento\",\"Ingreso_promedio\"]]\n",
    "\n",
    "print(promedios_ingresos)"
   ]
  }
 ],
 "metadata": {
  "kernelspec": {
   "display_name": "Python 3",
   "language": "python",
   "name": "python3"
  },
  "language_info": {
   "codemirror_mode": {
    "name": "ipython",
    "version": 3
   },
   "file_extension": ".py",
   "mimetype": "text/x-python",
   "name": "python",
   "nbconvert_exporter": "python",
   "pygments_lexer": "ipython3",
   "version": "3.12.1"
  }
 },
 "nbformat": 4,
 "nbformat_minor": 5
}
