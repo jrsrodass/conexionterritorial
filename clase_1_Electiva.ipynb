{
  "nbformat": 4,
  "nbformat_minor": 0,
  "metadata": {
    "colab": {
      "provenance": [],
      "authorship_tag": "ABX9TyOmFuRt3UULadwQeKomI9Lc",
      "include_colab_link": true
    },
    "kernelspec": {
      "name": "python3",
      "display_name": "Python 3"
    },
    "language_info": {
      "name": "python"
    }
  },
  "cells": [
    {
      "cell_type": "markdown",
      "metadata": {
        "id": "view-in-github",
        "colab_type": "text"
      },
      "source": [
        "<a href=\"https://colab.research.google.com/github/jrsrodass/conexionterritorial/blob/main/clase_1_Electiva.ipynb\" target=\"_parent\"><img src=\"https://colab.research.google.com/assets/colab-badge.svg\" alt=\"Open In Colab\"/></a>"
      ]
    },
    {
      "cell_type": "code",
      "execution_count": null,
      "metadata": {
        "id": "HKpnWEkg91k6"
      },
      "outputs": [],
      "source": [
        "lista = [9,8,7,6,5,4,3,2,1]"
      ]
    },
    {
      "cell_type": "code",
      "source": [
        "print(lista)"
      ],
      "metadata": {
        "colab": {
          "base_uri": "https://localhost:8080/"
        },
        "id": "uuJmqs1y-ar3",
        "outputId": "8856dbce-b586-4992-fc19-03e751326c16"
      },
      "execution_count": null,
      "outputs": [
        {
          "output_type": "stream",
          "name": "stdout",
          "text": [
            "[9, 8, 7, 6, 5, 4, 3, 2, 1]\n"
          ]
        }
      ]
    },
    {
      "cell_type": "code",
      "source": [
        "#hola mundo"
      ],
      "metadata": {
        "id": "3oQgruc5Bimb"
      },
      "execution_count": 1,
      "outputs": []
    },
    {
      "cell_type": "code",
      "source": [
        "diccionario = {\"123\" : \"lulu\",\n",
        "               \"432\" : \"samuela\",\n",
        "               \"657\" : \"mafemora\",\n",
        "               \"980\" : \"Baneso\"}\n",
        "\n",
        "otro_diccionario = { 1 : [1,2,3,4,5],\n",
        "                    2 : [5,6,7,8,9],\n",
        "                     3 : {1:2,2:3}}"
      ],
      "metadata": {
        "id": "PAXS14fOEpsq"
      },
      "execution_count": 3,
      "outputs": []
    },
    {
      "cell_type": "code",
      "source": [
        "otro_diccionario[3][2]"
      ],
      "metadata": {
        "colab": {
          "base_uri": "https://localhost:8080/"
        },
        "id": "TV9vBz3CGRNO",
        "outputId": "0b181e5d-40e2-4300-bcf1-e751740ec511"
      },
      "execution_count": 4,
      "outputs": [
        {
          "output_type": "execute_result",
          "data": {
            "text/plain": [
              "3"
            ]
          },
          "metadata": {},
          "execution_count": 4
        }
      ]
    },
    {
      "cell_type": "code",
      "source": [
        "diccionario_complejo = { 1 : [1,2,3,4,5,[5,6,7,8,9,[6,7,8]]],\n",
        "2: [5,6,7,8,9],\n",
        "3: {1:2,2:3,6:[9,10,'extraer este valor']}}"
      ],
      "metadata": {
        "id": "l_Sv-aKNG8Fc"
      },
      "execution_count": 7,
      "outputs": []
    },
    {
      "cell_type": "code",
      "source": [
        "diccionario_complejo[1][5][5][2]"
      ],
      "metadata": {
        "colab": {
          "base_uri": "https://localhost:8080/"
        },
        "id": "ttWUqWWjIhG2",
        "outputId": "be758815-465c-4e18-e4d4-5e4db4848fea"
      },
      "execution_count": 16,
      "outputs": [
        {
          "output_type": "execute_result",
          "data": {
            "text/plain": [
              "8"
            ]
          },
          "metadata": {},
          "execution_count": 16
        }
      ]
    },
    {
      "cell_type": "code",
      "source": [
        "diccionario_complejo[3][6][2]"
      ],
      "metadata": {
        "colab": {
          "base_uri": "https://localhost:8080/",
          "height": 36
        },
        "id": "mLbc-TCBHyk2",
        "outputId": "d0101018-5616-47c5-e93b-37d469e5223f"
      },
      "execution_count": 17,
      "outputs": [
        {
          "output_type": "execute_result",
          "data": {
            "text/plain": [
              "'extraer este valor'"
            ],
            "application/vnd.google.colaboratory.intrinsic+json": {
              "type": "string"
            }
          },
          "metadata": {},
          "execution_count": 17
        }
      ]
    },
    {
      "cell_type": "code",
      "source": [
        "estudiantes = {\"mafe\": 2.5, \"samuela\": 5, \"baneso\": 0.5, \"lulu\": 4.5, \"manu\": 2.9}\n",
        "\n",
        ""
      ],
      "metadata": {
        "id": "wRfQuxxyMJqJ"
      },
      "execution_count": 30,
      "outputs": []
    },
    {
      "cell_type": "code",
      "source": [
        "for nombre, nota in estudiantes.items():\n",
        "  print(f\"\\nEstudiante: {nombre}\")\n",
        "  print(f\"Nota: {nota}\")\n",
        "\n",
        "if nota >= 3.0:\n",
        "  print(\"Gano la materia.\")\n",
        "elif 2.0 <= nota < 3.0:\n",
        "  print(\"perdio la materia, pero puede habilitar.\")\n",
        "else:\n",
        "  print(\"perdio la materia y no puede habilitar.\")"
      ],
      "metadata": {
        "colab": {
          "base_uri": "https://localhost:8080/"
        },
        "id": "oz6lZjaxNS5c",
        "outputId": "deb738ab-7bd2-4078-f3b0-1ed38fc06094"
      },
      "execution_count": 31,
      "outputs": [
        {
          "output_type": "stream",
          "name": "stdout",
          "text": [
            "\n",
            "Estudiante: mafe\n",
            "Nota: 2.5\n",
            "\n",
            "Estudiante: samuela\n",
            "Nota: 5\n",
            "\n",
            "Estudiante: baneso\n",
            "Nota: 0.5\n",
            "\n",
            "Estudiante: lulu\n",
            "Nota: 4.5\n",
            "\n",
            "Estudiante: manu\n",
            "Nota: 2.9\n",
            "perdio la materia, pero puede habilitar.\n"
          ]
        }
      ]
    }
  ]
}